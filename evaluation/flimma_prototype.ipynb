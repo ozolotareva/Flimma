{
 "cells": [
  {
   "cell_type": "code",
   "execution_count": 1,
   "metadata": {},
   "outputs": [],
   "source": [
    "import pandas as pd\n",
    "import numpy as np\n",
    "import matplotlib\n",
    "import matplotlib.pyplot as plt\n",
    "#import seaborn as sns\n",
    "import statsmodels.api as sm\n",
    "from scipy.interpolate import interp1d\n",
    "from scipy import linalg\n",
    "from scipy.special import digamma,polygamma\n",
    "from scipy.stats import t\n",
    "import sys,os\n",
    "\n",
    "\n",
    "from time import time\n",
    "np.set_printoptions(precision=22)\n",
    "\n",
    "#%precision 22\n",
    "%matplotlib inline"
   ]
  },
  {
   "cell_type": "code",
   "execution_count": 2,
   "metadata": {},
   "outputs": [],
   "source": [
    "from client import Client\n",
    "from server import Server"
   ]
  },
  {
   "cell_type": "markdown",
   "metadata": {},
   "source": [
    "### parameters"
   ]
  },
  {
   "cell_type": "code",
   "execution_count": 3,
   "metadata": {},
   "outputs": [],
   "source": [
    "data_dir = \"testruns/input_files/\" # path to data folder\n",
    "cohorts = [\"Split_1\",\"Split_2\"]#\"Split_3\"]\n",
    "variables = [\"Lum\",\"Basal\"]\n",
    "confounders = [\"diagnosis_age\",\"stage\"]#,\"is_LumA\"]\n",
    "normalization_method = \"UQ\"\n",
    "\n",
    "path_to_R_limma_files = \"testruns/limma_output/\" # for testing "
   ]
  },
  {
   "cell_type": "markdown",
   "metadata": {},
   "source": [
    "# init_step()\n",
    "\n",
    "#### server side"
   ]
  },
  {
   "cell_type": "code",
   "execution_count": 4,
   "metadata": {},
   "outputs": [],
   "source": [
    "server = Server(variables,confounders)\n",
    "store_clients = {}"
   ]
  },
  {
   "cell_type": "markdown",
   "metadata": {},
   "source": [
    "#### clinet side "
   ]
  },
  {
   "cell_type": "code",
   "execution_count": 5,
   "metadata": {},
   "outputs": [
    {
     "name": "stdout",
     "output_type": "stream",
     "text": [
      "Server: joined client  Split_1\n",
      "Server: joined client  Split_2\n"
     ]
    }
   ],
   "source": [
    "# client read inputs and join the server\n",
    "for c in cohorts:\n",
    "    expression_file_path =data_dir+c+\".counts.tsv\" # matrix of raw counts \n",
    "    annotation_file_path = data_dir+c+\".design.tsv\" # design matrix\n",
    "    \n",
    "    client = Client(c, expression_file_path,annotation_file_path)\n",
    "    \n",
    "    store_clients[client.cohort_name] = client\n",
    "    # join client\n",
    "    server.join_client(client.cohort_name,client.gene_names,client.n_samples,client.condition_names)"
   ]
  },
  {
   "cell_type": "markdown",
   "metadata": {},
   "source": [
    "# prepare_inputs()\n",
    "\n",
    "#### server side"
   ]
  },
  {
   "cell_type": "code",
   "execution_count": 6,
   "metadata": {},
   "outputs": [
    {
     "name": "stdout",
     "output_type": "stream",
     "text": [
      "Client names: ['Split_1', 'Split_2']\n",
      "Samples per client: [52, 50]\n",
      "Variables: ['Lum', 'Basal']\n",
      "Confounders: ['diagnosis_age', 'stage', 'Split_1']\n",
      "Shared gene names: 20531\n",
      "Samples in total: 102\n"
     ]
    }
   ],
   "source": [
    "# add cohort columns to the list of confounders on the server side\n",
    "server.confounders = server.confounders+server.client_names[:-1]    \n",
    "    \n",
    "print(\"Client names:\",server.client_names)\n",
    "print(\"Samples per client:\",server.n_samples_per_cli)\n",
    "print(\"Variables:\",server.variables)\n",
    "print(\"Confounders:\",server.confounders)\n",
    "print(\"Shared gene names:\", len(server.global_genes))\n",
    "N = np.sum(server.n_samples_per_cli) # total number of samples\n",
    "print(\"Samples in total:\",N)"
   ]
  },
  {
   "cell_type": "markdown",
   "metadata": {},
   "source": [
    "#### clinet side "
   ]
  },
  {
   "cell_type": "code",
   "execution_count": 7,
   "metadata": {},
   "outputs": [
    {
     "name": "stderr",
     "output_type": "stream",
     "text": [
      "1 conditions are excluded from the design matrix: {'is_LumA'}\n",
      "1 conditions are excluded from the design matrix: {'is_LumA'}\n"
     ]
    }
   ],
   "source": [
    "# validate inputs:\n",
    "\n",
    "for c in cohorts:\n",
    "    client = store_clients[c]\n",
    "    conditions = server.variables+server.confounders\n",
    "    # add cohort effect columns to each design matrix\n",
    "    client.add_cohort_effects_to_design(server.client_names)\n",
    "    \n",
    "    client.validate_inputs(server.global_genes,conditions)\n"
   ]
  },
  {
   "cell_type": "markdown",
   "metadata": {},
   "source": [
    "# filterByExprs: Removing lowly expressed genes\n",
    "\n",
    "* note: requires two rounds of cient-server communication\n",
    "\n",
    "###  compute_cpm_cutoff_step()\n",
    "same as filter_parameters_step() in Reza's implementation\n"
   ]
  },
  {
   "cell_type": "code",
   "execution_count": 8,
   "metadata": {},
   "outputs": [],
   "source": [
    "# filterByExprs parameters\n",
    "large_n=10\n",
    "min_prop=0.7\n",
    "tol = 1e-14\n",
    "# user-defined parameters \n",
    "min_count=10\n",
    "min_total_count=15"
   ]
  },
  {
   "cell_type": "code",
   "execution_count": null,
   "metadata": {},
   "outputs": [],
   "source": []
  },
  {
   "cell_type": "code",
   "execution_count": 9,
   "metadata": {},
   "outputs": [],
   "source": [
    "# server variables - can be defined in previous steps, \n",
    "# when the the nuber of shared genes and variables of interest are defined \n",
    "# collect number of samples per group, lib.sizes, and total read counts per gene\n",
    "\n",
    "# how many samples are in every group in the model, e.g. LumA, Basal, etc.\n",
    "n_samples_in_groups = pd.Series(data=np.zeros(len(server.variables)),index=server.variables)\n",
    "lib_sizes = []\n",
    "# total raw read count per genes\n",
    "total_counts_per_gene = pd.Series(data=np.zeros(len(server.global_genes)),index=server.global_genes)\n",
    "# count how many samples pass CPM cutoff\n",
    "n_samples_passing_CPMcutoff = pd.Series(data=np.zeros(len(server.global_genes)),index=server.global_genes)\n"
   ]
  },
  {
   "cell_type": "markdown",
   "metadata": {},
   "source": [
    "#### client side"
   ]
  },
  {
   "cell_type": "code",
   "execution_count": 10,
   "metadata": {},
   "outputs": [],
   "source": [
    "for c in store_clients.keys():\n",
    "    client = store_clients[c]\n",
    "    n_samples_in_groups+= client.count_samples_in_groups(server.variables)\n",
    "    total_counts_per_gene += client.get_total_counts_per_gene()\n",
    "    lib_sizes.append(client.get_libsizes())\n"
   ]
  },
  {
   "cell_type": "code",
   "execution_count": null,
   "metadata": {},
   "outputs": [],
   "source": []
  },
  {
   "cell_type": "markdown",
   "metadata": {},
   "source": [
    "#### server side #### "
   ]
  },
  {
   "cell_type": "code",
   "execution_count": 11,
   "metadata": {},
   "outputs": [
    {
     "name": "stdout",
     "output_type": "stream",
     "text": [
      "Lum      82.0\n",
      "Basal    20.0\n",
      "dtype: float64\n",
      "Min. sample size: 17.0\n"
     ]
    }
   ],
   "source": [
    "lib_sizes  = np.concatenate(lib_sizes)  \n",
    "print(n_samples_in_groups)\n",
    "# define min allowed number of samples\n",
    "min_n_samples = np.min([x for x in n_samples_in_groups if x >0])\n",
    "if min_n_samples  > large_n:\n",
    "    min_n_samples = large_n + ( min_n_samples-large_n)*min_prop\n",
    "print(\"Min. sample size:\",min_n_samples)"
   ]
  },
  {
   "cell_type": "code",
   "execution_count": 12,
   "metadata": {},
   "outputs": [
    {
     "name": "stdout",
     "output_type": "stream",
     "text": [
      "Genes passed total count cutoff: 19259\n"
     ]
    },
    {
     "data": {
      "text/plain": [
       "array(['A1BG', 'A1CF', 'A2BP1', ..., 'ZZZ3', 'psiTPTE22', 'tAKR'],\n",
       "      dtype=object)"
      ]
     },
     "execution_count": 12,
     "metadata": {},
     "output_type": "execute_result"
    }
   ],
   "source": [
    "# find genes passing total count cutoff \n",
    "# keep genes if total count is not less than (min_total_count - tol)\n",
    "\n",
    "keep_total_count = total_counts_per_gene[total_counts_per_gene >= (min_total_count - tol)].index.values\n",
    "print(\"Genes passed total count cutoff:\",len(keep_total_count))\n",
    "keep_total_count"
   ]
  },
  {
   "cell_type": "code",
   "execution_count": 13,
   "metadata": {},
   "outputs": [
    {
     "name": "stdout",
     "output_type": "stream",
     "text": [
      "median lib.size: 52309063.0 \n",
      "CPM_cutoff: 0.19117146105255223\n"
     ]
    }
   ],
   "source": [
    "# compute CPM cutoff\n",
    "median_lib_size  = np.median(lib_sizes)\n",
    "CPM_cutoff = min_count/median_lib_size*1e6\n",
    "print(\"median lib.size:\",median_lib_size,\"\\nCPM_cutoff:\",CPM_cutoff)\n",
    "\n"
   ]
  },
  {
   "cell_type": "markdown",
   "metadata": {},
   "source": [
    "#### client side "
   ]
  },
  {
   "cell_type": "code",
   "execution_count": 14,
   "metadata": {},
   "outputs": [],
   "source": [
    "for c in store_clients.keys():\n",
    "    client = store_clients[c]\n",
    "    n_samples_passing_CPMcutoff += client.count_samples_passing_CPMcutoff(CPM_cutoff)\n",
    "    "
   ]
  },
  {
   "cell_type": "markdown",
   "metadata": {},
   "source": [
    "#### server side "
   ]
  },
  {
   "cell_type": "code",
   "execution_count": 15,
   "metadata": {},
   "outputs": [
    {
     "name": "stdout",
     "output_type": "stream",
     "text": [
      "Genes passed min. sample cutoff: 16784\n"
     ]
    }
   ],
   "source": [
    "#keep genes where more than 'min_sample_size' samples passed CPM cutoff\n",
    "keep_CPM = n_samples_passing_CPMcutoff[n_samples_passing_CPMcutoff>min_n_samples-tol].index.values\n",
    "print(\"Genes passed min. sample cutoff:\",len(keep_CPM))"
   ]
  },
  {
   "cell_type": "code",
   "execution_count": 16,
   "metadata": {},
   "outputs": [
    {
     "name": "stdout",
     "output_type": "stream",
     "text": [
      "Genes passed filterByExprs 16784\n"
     ]
    }
   ],
   "source": [
    "# keep genes passed both filters\n",
    "keep_genes = sorted(list(set(keep_CPM).intersection(set(keep_total_count))))\n",
    "\n",
    "print(\"Genes passed filterByExprs\",len(keep_genes))\n",
    "\n",
    "for c in store_clients.keys():\n",
    "    client = store_clients[c]\n",
    "    client.apply_filter(keep_genes)\n",
    "\n",
    "# update global genes at the server side\n",
    "server.global_genes = keep_genes"
   ]
  },
  {
   "cell_type": "code",
   "execution_count": null,
   "metadata": {},
   "outputs": [],
   "source": []
  },
  {
   "cell_type": "markdown",
   "metadata": {},
   "source": [
    "# Normalization\n",
    "* Upperquartile (UQ)\n",
    "* TMM \n",
    "\n",
    "TMM needs an expression profile as a reference;\n",
    "federated TMM with an averaged expression profile gives different results\n",
    "=> we implement only UQ\n",
    "\n",
    "Ignore TMM part\n",
    "\n",
    "2 rounds of communication"
   ]
  },
  {
   "cell_type": "markdown",
   "metadata": {},
   "source": [
    "#### client side \n",
    "skip TMM part"
   ]
  },
  {
   "cell_type": "code",
   "execution_count": null,
   "metadata": {},
   "outputs": [],
   "source": []
  },
  {
   "cell_type": "code",
   "execution_count": 17,
   "metadata": {},
   "outputs": [
    {
     "name": "stdout",
     "output_type": "stream",
     "text": [
      "Upperquartile Normalization...\n"
     ]
    }
   ],
   "source": [
    "sum_f = 0\n",
    "\n",
    "if normalization_method == \"UQ\":\n",
    "    print(\"Upperquartile Normalization...\")\n",
    "    for c in store_clients.keys():\n",
    "        client = store_clients[c]\n",
    "        # sum of log(uq/lib.sizes)\n",
    "        sum_f+= client.compute_sum_log_f()\n",
    "    \n",
    "elif normalization_method == \"TMM\":\n",
    "    print(\"TMM Normalization...\")\n",
    "    # compute global average profile to use it as reference \n",
    "    avg_profiles = []\n",
    "    for c in store_clients.keys():\n",
    "        client = store_clients[c]\n",
    "        avg_profiles.append(client.get_avg_profile())\n",
    "    ref = pd.concat(avg_profiles,axis=1).mean(axis=1) # use averaged profile as a reference column\n",
    "    ref = ref.apply(int)\n",
    "    \n",
    "    # compute normalization factors given reference \n",
    "    for c in store_clients.keys():\n",
    "        client = store_clients[c]\n",
    "        client.compute_TMM_factors(ref)\n",
    "        f.append(client.unscaled_f)\n",
    "else:\n",
    "    print(\"Normalization method must be 'UQ' or 'TMM'.\")"
   ]
  },
  {
   "cell_type": "code",
   "execution_count": null,
   "metadata": {},
   "outputs": [],
   "source": []
  },
  {
   "cell_type": "markdown",
   "metadata": {},
   "source": [
    "#### server side"
   ]
  },
  {
   "cell_type": "code",
   "execution_count": 18,
   "metadata": {},
   "outputs": [
    {
     "name": "stdout",
     "output_type": "stream",
     "text": [
      "5.5358913784876265e-05\n"
     ]
    }
   ],
   "source": [
    "F = np.exp(sum_f/N)\n",
    "print(F)       \n"
   ]
  },
  {
   "cell_type": "markdown",
   "metadata": {},
   "source": [
    "#### client side"
   ]
  },
  {
   "cell_type": "code",
   "execution_count": 19,
   "metadata": {},
   "outputs": [
    {
     "name": "stdout",
     "output_type": "stream",
     "text": [
      "[1.0442055765027    1.0398588632884374 1.046564011248653\n",
      " 0.9709619244949445 1.0052368290491556 1.00625915888217\n",
      " 1.0523603148893554 1.06670477495303   0.9983598731735196\n",
      " 0.8670129882412442 0.9560845207221353 0.9892280837438777\n",
      " 1.0181692101389122 1.0686082348624861 1.0690931443568574\n",
      " 0.9696062368439514 1.0321443732162303 0.982807598271319\n",
      " 1.019238922021251  0.9075441818344056 0.9674847992210698\n",
      " 0.9688729170065931 0.7945258871598372 1.0002497524162037\n",
      " 1.0163142808129646 1.0324315854804749 0.9830879423723831\n",
      " 1.0572788796005803 0.9982460309164353 0.9117366236842177\n",
      " 0.9828446830956062 1.0505133142190592 1.036273873669172\n",
      " 1.039557163229232  1.0728920527542014 0.9519437950763688\n",
      " 1.0859988038037753 0.8653470862167149 1.0928703141801466\n",
      " 1.0686672161121233 1.1038826515284668 1.0546949510504264\n",
      " 0.9936237373879806 0.9574860483560407 1.0150601465607458\n",
      " 1.0869092491548478 1.062666021862062  1.012237543708435\n",
      " 0.842684300903987  1.079483846887829  0.9912534089226124\n",
      " 1.0084881127821976]\n",
      "[0.9279309854817068 1.027844985546765  1.005347168648774\n",
      " 1.0628304781233107 1.0886293883545528 0.7083328568858891\n",
      " 0.9714085645891803 0.9691455169184585 1.0387529370026565\n",
      " 1.0263620271365266 1.0240163074748605 0.969818669462286\n",
      " 1.0297708956774319 1.028104546036039  0.9790020652778636\n",
      " 1.0705613704946055 1.0340580277886238 1.0305908860829558\n",
      " 0.9957635275404095 0.8596483102506068 0.9804274761388836\n",
      " 0.9817869499943614 1.023788530063351  0.9601780282303611\n",
      " 0.9960749369860394 1.0206441862422844 1.0510079768804124\n",
      " 0.9874591745052597 1.0309027529294998 1.0962856110051513\n",
      " 1.0234166900508315 0.9198347092781588 1.0351317107416218\n",
      " 1.0733753296624962 1.0478342100984999 1.024430261057717\n",
      " 1.053811844498369  1.0350599656187272 1.0534639570485769\n",
      " 1.0134299625121657 1.0137043961981957 0.9884416620816193\n",
      " 0.9678639100393628 0.8668150437702608 0.8987427509718021\n",
      " 0.8872037957497556 0.9803201224160424 1.0503696459928544\n",
      " 1.0070058947466536 1.0281994491224595]\n"
     ]
    }
   ],
   "source": [
    "# compute normalization factors\n",
    "for c in store_clients.keys():\n",
    "    client = store_clients[c]\n",
    "    client.compute_normalization_factors(F)\n",
    "    "
   ]
  },
  {
   "cell_type": "markdown",
   "metadata": {},
   "source": [
    "# Voom\n",
    "\n",
    "* lmFit *without* weights: fit linear models\n",
    "* fit LOWESS curve for std-mean trend\n",
    "* compute weights to compensate the trend\n",
    "* lmFit *with* weights\n",
    "* applying contrasts (on the server side => may be joined to the last server step)\n",
    "\n",
    "6 rounds of communication"
   ]
  },
  {
   "cell_type": "code",
   "execution_count": 20,
   "metadata": {},
   "outputs": [],
   "source": [
    "# server variables\n",
    "# for XtX, XtY, beta and stdev\n",
    "XtX_list = []\n",
    "XtY_list = []"
   ]
  },
  {
   "cell_type": "markdown",
   "metadata": {},
   "source": [
    "#### client side "
   ]
  },
  {
   "cell_type": "code",
   "execution_count": 21,
   "metadata": {},
   "outputs": [],
   "source": [
    "for c in store_clients.keys():\n",
    "    client = store_clients[c]\n",
    "\n",
    "    # logCPM\n",
    "    client.compute_logCPM()\n",
    "    \n",
    "    XtX,XtY = client.compute_XtX_XtY(weighted=False)\n",
    "    XtX_list.append(XtX)\n",
    "    XtY_list.append(XtY)\n"
   ]
  },
  {
   "cell_type": "markdown",
   "metadata": {},
   "source": [
    "#### server side"
   ]
  },
  {
   "cell_type": "code",
   "execution_count": 24,
   "metadata": {},
   "outputs": [],
   "source": [
    "server.compute_beta_and_beta_stdev(XtX_list,XtY_list)"
   ]
  },
  {
   "cell_type": "code",
   "execution_count": 25,
   "metadata": {},
   "outputs": [],
   "source": [
    "### 1) Computes SSE, sigma, and cov. coeficients for clients and aggregates them \n",
    "### 2) computes Ameans and log-counts and fits LOWESS\n",
    "SSE_list = []\n",
    "cov_coef_list = []\n",
    "logC_conversion_term = 0\n",
    "server.Amean = np.zeros(len(server.global_genes))\n"
   ]
  },
  {
   "cell_type": "markdown",
   "metadata": {},
   "source": [
    "#### client side"
   ]
  },
  {
   "cell_type": "code",
   "execution_count": 26,
   "metadata": {},
   "outputs": [],
   "source": [
    "for c in store_clients.keys():\n",
    "    client = store_clients[c]\n",
    "    \n",
    "    # sum of squared residues\n",
    "    SSE,cov_coef = client.compute_SSE_and_cov_coef(server.beta, weighted = False)\n",
    "    SSE_list.append(SSE)\n",
    "    cov_coef_list.append(cov_coef)\n",
    "    \n",
    "    # mean log(counts) per gene\n",
    "    server.Amean += client.logCPM.sum(axis=1)\n",
    "    logC_conversion_term += np.sum(np.log2(client.lib_sizes+1))"
   ]
  },
  {
   "cell_type": "markdown",
   "metadata": {},
   "source": [
    "#### server side"
   ]
  },
  {
   "cell_type": "code",
   "execution_count": 27,
   "metadata": {},
   "outputs": [
    {
     "name": "stdout",
     "output_type": "stream",
     "text": [
      "server: delta for LOWESS fit is set to: 0.17215404610075283\n"
     ]
    }
   ],
   "source": [
    "server.aggregate_SSE_and_cov_coef(SSE_list,cov_coef_list)\n",
    "server.compute_mean_logC(logC_conversion_term)\n",
    "server.fit_LOWESS_curve()\n"
   ]
  },
  {
   "cell_type": "markdown",
   "metadata": {},
   "source": [
    "#### client side"
   ]
  },
  {
   "cell_type": "code",
   "execution_count": 28,
   "metadata": {},
   "outputs": [],
   "source": [
    "### 1) converts fitted logCPM to fitted log-counts and\n",
    "### 2) computes weights \n",
    "for c in store_clients.keys():\n",
    "    client = store_clients[c]\n",
    "    \n",
    "    client.calculate_fitted_logcounts(server.beta)\n",
    "    client.calculate_weights(server.lowess_curve)"
   ]
  },
  {
   "cell_type": "code",
   "execution_count": null,
   "metadata": {},
   "outputs": [],
   "source": []
  },
  {
   "cell_type": "markdown",
   "metadata": {},
   "source": [
    "#### server side\n",
    "second linear regression but this time with weights"
   ]
  },
  {
   "cell_type": "code",
   "execution_count": 29,
   "metadata": {},
   "outputs": [],
   "source": [
    "XtX_list = []\n",
    "XtY_list = []\n",
    "SSE_list = []\n",
    "cov_coef_list = []\n",
    "logC_conversion_term = 0\n",
    "server.Amean = np.zeros(len(server.global_genes))"
   ]
  },
  {
   "cell_type": "markdown",
   "metadata": {},
   "source": [
    "#### client side "
   ]
  },
  {
   "cell_type": "code",
   "execution_count": 30,
   "metadata": {},
   "outputs": [],
   "source": [
    "for c in store_clients.keys():\n",
    "    client = store_clients[c]\n",
    "\n",
    "    XtX,XtY = client.compute_XtX_XtY(weighted=True)\n",
    "    XtX_list.append(XtX)\n",
    "    XtY_list.append(XtY)\n"
   ]
  },
  {
   "cell_type": "markdown",
   "metadata": {},
   "source": [
    "#### server side "
   ]
  },
  {
   "cell_type": "code",
   "execution_count": 31,
   "metadata": {},
   "outputs": [],
   "source": [
    "server.compute_beta_and_beta_stdev(XtX_list,XtY_list)"
   ]
  },
  {
   "cell_type": "markdown",
   "metadata": {},
   "source": [
    "#### client side"
   ]
  },
  {
   "cell_type": "code",
   "execution_count": 32,
   "metadata": {},
   "outputs": [],
   "source": [
    "### 1) Computes SSE, sigma, and cov. coeficients for clients and aggregates them 2) computes Ameans and log-counts and fits LOWE\n",
    "for c in store_clients.keys():\n",
    "    client = store_clients[c]\n",
    "    \n",
    "    # sum of squared residues\n",
    "    SSE,cov_coef = client.compute_SSE_and_cov_coef(server.beta, weighted = True)\n",
    "    SSE_list.append(SSE)\n",
    "    cov_coef_list.append(cov_coef)\n",
    "    \n",
    "    # mean log(counts) per gene\n",
    "    server.Amean += client.logCPM.sum(axis=1)\n",
    "    logC_conversion_term += np.sum(np.log2(client.lib_sizes+1))\n"
   ]
  },
  {
   "cell_type": "markdown",
   "metadata": {},
   "source": [
    "#### server side "
   ]
  },
  {
   "cell_type": "code",
   "execution_count": 33,
   "metadata": {},
   "outputs": [
    {
     "name": "stdout",
     "output_type": "stream",
     "text": [
      "server: delta for LOWESS fit is set to: 0.17215404610075283\n"
     ]
    }
   ],
   "source": [
    "server.aggregate_SSE_and_cov_coef(SSE_list,cov_coef_list,weighted = True)\n",
    "server.compute_mean_logC(logC_conversion_term,weighted = True)\n",
    "server.fit_LOWESS_curve(weighted=True)"
   ]
  },
  {
   "cell_type": "code",
   "execution_count": 34,
   "metadata": {},
   "outputs": [
    {
     "data": {
      "image/png": "[encoded data removed]",
      "text/plain": [
       "<Figure size 1080x360 with 2 Axes>"
      ]
     },
     "metadata": {
      "needs_background": "light"
     },
     "output_type": "display_data"
    }
   ],
   "source": [
    "server.plot_voom_results()"
   ]
  },
  {
   "cell_type": "code",
   "execution_count": 35,
   "metadata": {},
   "outputs": [
    {
     "data": {
      "text/plain": [
       "array([133.9901450255164 ,  98.69707798771945, 461.60866766811193, ...,\n",
       "       299.5145332398364 , 276.2057589993664 , 109.26819453201124])"
      ]
     },
     "execution_count": 35,
     "metadata": {},
     "output_type": "execute_result"
    }
   ],
   "source": [
    "client.logCPM.sum(axis=1).values"
   ]
  },
  {
   "cell_type": "code",
   "execution_count": 36,
   "metadata": {},
   "outputs": [
    {
     "data": {
      "text/html": [
       "<div>\n",
       "<style scoped>\n",
       "    .dataframe tbody tr th:only-of-type {\n",
       "        vertical-align: middle;\n",
       "    }\n",
       "\n",
       "    .dataframe tbody tr th {\n",
       "        vertical-align: top;\n",
       "    }\n",
       "\n",
       "    .dataframe thead th {\n",
       "        text-align: right;\n",
       "    }\n",
       "</style>\n",
       "<table border=\"1\" class=\"dataframe\">\n",
       "  <thead>\n",
       "    <tr style=\"text-align: right;\">\n",
       "      <th></th>\n",
       "      <th>Lum_vs_Basal</th>\n",
       "    </tr>\n",
       "  </thead>\n",
       "  <tbody>\n",
       "    <tr>\n",
       "      <th>Lum</th>\n",
       "      <td>1.0</td>\n",
       "    </tr>\n",
       "    <tr>\n",
       "      <th>Basal</th>\n",
       "      <td>-1.0</td>\n",
       "    </tr>\n",
       "    <tr>\n",
       "      <th>diagnosis_age</th>\n",
       "      <td>0.0</td>\n",
       "    </tr>\n",
       "    <tr>\n",
       "      <th>stage</th>\n",
       "      <td>0.0</td>\n",
       "    </tr>\n",
       "    <tr>\n",
       "      <th>Split_1</th>\n",
       "      <td>0.0</td>\n",
       "    </tr>\n",
       "  </tbody>\n",
       "</table>\n",
       "</div>"
      ],
      "text/plain": [
       "               Lum_vs_Basal\n",
       "Lum                     1.0\n",
       "Basal                  -1.0\n",
       "diagnosis_age           0.0\n",
       "stage                   0.0\n",
       "Split_1                 0.0"
      ]
     },
     "execution_count": 36,
     "metadata": {},
     "output_type": "execute_result"
    }
   ],
   "source": [
    "# contrasts matrix\n",
    "contrast_matrix = server.make_contrasts(contrasts=[([\"Lum\"],[\"Basal\"])])\n",
    "### applies contrasts\n",
    "server.fit_contasts(contrast_matrix.values)\n",
    "contrast_matrix"
   ]
  },
  {
   "cell_type": "code",
   "execution_count": null,
   "metadata": {},
   "outputs": [],
   "source": []
  },
  {
   "cell_type": "markdown",
   "metadata": {},
   "source": [
    "# eBayes\n"
   ]
  },
  {
   "cell_type": "code",
   "execution_count": 37,
   "metadata": {
    "scrolled": false
   },
   "outputs": [],
   "source": [
    "### all eBayes stepa are on the server side\n",
    "server.eBayes()"
   ]
  },
  {
   "cell_type": "code",
   "execution_count": 38,
   "metadata": {},
   "outputs": [],
   "source": [
    "#t = pd.read_csv(\"flimma/flimma-server/flimma_server/result/ebcb40f2-be40-41a5-a9bf-1c523bc078e3/flimma-result.csv\",sep=\"\\t\",index_col=0)\n",
    "#t"
   ]
  },
  {
   "cell_type": "code",
   "execution_count": 39,
   "metadata": {},
   "outputs": [
    {
     "data": {
      "text/html": [
       "<div>\n",
       "<style scoped>\n",
       "    .dataframe tbody tr th:only-of-type {\n",
       "        vertical-align: middle;\n",
       "    }\n",
       "\n",
       "    .dataframe tbody tr th {\n",
       "        vertical-align: top;\n",
       "    }\n",
       "\n",
       "    .dataframe thead th {\n",
       "        text-align: right;\n",
       "    }\n",
       "</style>\n",
       "<table border=\"1\" class=\"dataframe\">\n",
       "  <thead>\n",
       "    <tr style=\"text-align: right;\">\n",
       "      <th></th>\n",
       "      <th>t</th>\n",
       "      <th>AveExpr</th>\n",
       "      <th>lods</th>\n",
       "      <th>logFC</th>\n",
       "      <th>CI.L</th>\n",
       "      <th>CI.R</th>\n",
       "      <th>adj.P.Val</th>\n",
       "      <th>P.Value</th>\n",
       "    </tr>\n",
       "    <tr>\n",
       "      <th>sample_name</th>\n",
       "      <th></th>\n",
       "      <th></th>\n",
       "      <th></th>\n",
       "      <th></th>\n",
       "      <th></th>\n",
       "      <th></th>\n",
       "      <th></th>\n",
       "      <th></th>\n",
       "    </tr>\n",
       "  </thead>\n",
       "  <tbody>\n",
       "    <tr>\n",
       "      <th>FOXA1</th>\n",
       "      <td>31.205896</td>\n",
       "      <td>7.383886</td>\n",
       "      <td>111.557895</td>\n",
       "      <td>6.691418</td>\n",
       "      <td>6.266083</td>\n",
       "      <td>7.116753</td>\n",
       "      <td>1.195193e-49</td>\n",
       "      <td>7.121027e-54</td>\n",
       "    </tr>\n",
       "    <tr>\n",
       "      <th>ESR1</th>\n",
       "      <td>24.173768</td>\n",
       "      <td>7.774303</td>\n",
       "      <td>89.310677</td>\n",
       "      <td>7.264928</td>\n",
       "      <td>6.668804</td>\n",
       "      <td>7.861052</td>\n",
       "      <td>5.155742e-40</td>\n",
       "      <td>6.143639e-44</td>\n",
       "    </tr>\n",
       "    <tr>\n",
       "      <th>AGR3</th>\n",
       "      <td>20.719940</td>\n",
       "      <td>5.136667</td>\n",
       "      <td>75.875060</td>\n",
       "      <td>9.805651</td>\n",
       "      <td>8.866927</td>\n",
       "      <td>10.744374</td>\n",
       "      <td>1.592475e-34</td>\n",
       "      <td>2.846417e-38</td>\n",
       "    </tr>\n",
       "    <tr>\n",
       "      <th>MLPH</th>\n",
       "      <td>20.363690</td>\n",
       "      <td>7.527730</td>\n",
       "      <td>75.224858</td>\n",
       "      <td>5.238801</td>\n",
       "      <td>4.728502</td>\n",
       "      <td>5.749101</td>\n",
       "      <td>4.960097e-34</td>\n",
       "      <td>1.182101e-37</td>\n",
       "    </tr>\n",
       "    <tr>\n",
       "      <th>SLC44A4</th>\n",
       "      <td>19.644035</td>\n",
       "      <td>6.039667</td>\n",
       "      <td>72.214129</td>\n",
       "      <td>6.384936</td>\n",
       "      <td>5.740209</td>\n",
       "      <td>7.029662</td>\n",
       "      <td>6.092139e-33</td>\n",
       "      <td>2.198486e-36</td>\n",
       "    </tr>\n",
       "    <tr>\n",
       "      <th>...</th>\n",
       "      <td>...</td>\n",
       "      <td>...</td>\n",
       "      <td>...</td>\n",
       "      <td>...</td>\n",
       "      <td>...</td>\n",
       "      <td>...</td>\n",
       "      <td>...</td>\n",
       "      <td>...</td>\n",
       "    </tr>\n",
       "    <tr>\n",
       "      <th>KCNQ3</th>\n",
       "      <td>0.000648</td>\n",
       "      <td>-0.246642</td>\n",
       "      <td>-6.578904</td>\n",
       "      <td>0.000277</td>\n",
       "      <td>-0.846533</td>\n",
       "      <td>0.847087</td>\n",
       "      <td>9.997104e-01</td>\n",
       "      <td>9.994841e-01</td>\n",
       "    </tr>\n",
       "    <tr>\n",
       "      <th>MAP4K5</th>\n",
       "      <td>0.000588</td>\n",
       "      <td>5.664583</td>\n",
       "      <td>-7.439636</td>\n",
       "      <td>0.000064</td>\n",
       "      <td>-0.216714</td>\n",
       "      <td>0.216843</td>\n",
       "      <td>9.997104e-01</td>\n",
       "      <td>9.995317e-01</td>\n",
       "    </tr>\n",
       "    <tr>\n",
       "      <th>GOLPH3</th>\n",
       "      <td>0.000464</td>\n",
       "      <td>7.393656</td>\n",
       "      <td>-7.480392</td>\n",
       "      <td>0.000054</td>\n",
       "      <td>-0.232309</td>\n",
       "      <td>0.232418</td>\n",
       "      <td>9.997501e-01</td>\n",
       "      <td>9.996310e-01</td>\n",
       "    </tr>\n",
       "    <tr>\n",
       "      <th>ZNF140</th>\n",
       "      <td>-0.000217</td>\n",
       "      <td>4.629759</td>\n",
       "      <td>-7.331744</td>\n",
       "      <td>-0.000034</td>\n",
       "      <td>-0.307962</td>\n",
       "      <td>0.307895</td>\n",
       "      <td>9.998872e-01</td>\n",
       "      <td>9.998276e-01</td>\n",
       "    </tr>\n",
       "    <tr>\n",
       "      <th>HADHA</th>\n",
       "      <td>0.000089</td>\n",
       "      <td>7.911219</td>\n",
       "      <td>-7.473413</td>\n",
       "      <td>0.000008</td>\n",
       "      <td>-0.184986</td>\n",
       "      <td>0.185003</td>\n",
       "      <td>9.999291e-01</td>\n",
       "      <td>9.999291e-01</td>\n",
       "    </tr>\n",
       "  </tbody>\n",
       "</table>\n",
       "<p>16784 rows × 8 columns</p>\n",
       "</div>"
      ],
      "text/plain": [
       "                     t   AveExpr        lods     logFC      CI.L       CI.R  \\\n",
       "sample_name                                                                   \n",
       "FOXA1        31.205896  7.383886  111.557895  6.691418  6.266083   7.116753   \n",
       "ESR1         24.173768  7.774303   89.310677  7.264928  6.668804   7.861052   \n",
       "AGR3         20.719940  5.136667   75.875060  9.805651  8.866927  10.744374   \n",
       "MLPH         20.363690  7.527730   75.224858  5.238801  4.728502   5.749101   \n",
       "SLC44A4      19.644035  6.039667   72.214129  6.384936  5.740209   7.029662   \n",
       "...                ...       ...         ...       ...       ...        ...   \n",
       "KCNQ3         0.000648 -0.246642   -6.578904  0.000277 -0.846533   0.847087   \n",
       "MAP4K5        0.000588  5.664583   -7.439636  0.000064 -0.216714   0.216843   \n",
       "GOLPH3        0.000464  7.393656   -7.480392  0.000054 -0.232309   0.232418   \n",
       "ZNF140       -0.000217  4.629759   -7.331744 -0.000034 -0.307962   0.307895   \n",
       "HADHA         0.000089  7.911219   -7.473413  0.000008 -0.184986   0.185003   \n",
       "\n",
       "                adj.P.Val       P.Value  \n",
       "sample_name                              \n",
       "FOXA1        1.195193e-49  7.121027e-54  \n",
       "ESR1         5.155742e-40  6.143639e-44  \n",
       "AGR3         1.592475e-34  2.846417e-38  \n",
       "MLPH         4.960097e-34  1.182101e-37  \n",
       "SLC44A4      6.092139e-33  2.198486e-36  \n",
       "...                   ...           ...  \n",
       "KCNQ3        9.997104e-01  9.994841e-01  \n",
       "MAP4K5       9.997104e-01  9.995317e-01  \n",
       "GOLPH3       9.997501e-01  9.996310e-01  \n",
       "ZNF140       9.998872e-01  9.998276e-01  \n",
       "HADHA        9.999291e-01  9.999291e-01  \n",
       "\n",
       "[16784 rows x 8 columns]"
      ]
     },
     "execution_count": 39,
     "metadata": {},
     "output_type": "execute_result"
    }
   ],
   "source": [
    "# result \n",
    "server.table"
   ]
  },
  {
   "cell_type": "code",
   "execution_count": null,
   "metadata": {},
   "outputs": [],
   "source": []
  },
  {
   "cell_type": "code",
   "execution_count": 56,
   "metadata": {},
   "outputs": [
    {
     "name": "stderr",
     "output_type": "stream",
     "text": [
      "findfont: Font family ['Arial'] not found. Falling back to DejaVu Sans.\n"
     ]
    },
    {
     "data": {
      "image/png": "[encoded data removed]",
      "text/plain": [
       "<Figure size 720x360 with 1 Axes>"
      ]
     },
     "metadata": {
      "needs_background": "light"
     },
     "output_type": "display_data"
    }
   ],
   "source": [
    "# from: https://reneshbedre.github.io/blog/volcano.html\n",
    "from bioinfokit import visuz\n",
    "\n",
    "table = server.table\n",
    "table[\"gene_names\"] = server.table.index.values\n",
    "gnames_to_plot = tuple(server.table.head(20).index.values)\n",
    "\n",
    "visuz.gene_exp.volcano(df=table, lfc='logFC', pv='adj.P.Val',\n",
    "                       lfc_thr=(1.0,1.0), pv_thr=(0.05,0.05),\n",
    "                       sign_line=True,\n",
    "                       genenames=gnames_to_plot ,geneid=\"gene_names\",gstyle=2,gfont=8,\n",
    "                       plotlegend=True, legendpos='upper center', \n",
    "                       figname = \"Volcano\",figtype=\"png\", \n",
    "                       show= True, \n",
    "                       color=(\"#E10600FF\", \"grey\",\"#00239CFF\" ),dim=(10,5))"
   ]
  },
  {
   "cell_type": "markdown",
   "metadata": {},
   "source": [
    "# Compare p-values and t of limma and fLimma "
   ]
  },
  {
   "cell_type": "code",
   "execution_count": 38,
   "metadata": {
    "scrolled": true
   },
   "outputs": [
    {
     "data": {
      "text/html": [
       "<div>\n",
       "<style scoped>\n",
       "    .dataframe tbody tr th:only-of-type {\n",
       "        vertical-align: middle;\n",
       "    }\n",
       "\n",
       "    .dataframe tbody tr th {\n",
       "        vertical-align: top;\n",
       "    }\n",
       "\n",
       "    .dataframe thead th {\n",
       "        text-align: right;\n",
       "    }\n",
       "</style>\n",
       "<table border=\"1\" class=\"dataframe\">\n",
       "  <thead>\n",
       "    <tr style=\"text-align: right;\">\n",
       "      <th></th>\n",
       "      <th>logFC</th>\n",
       "      <th>CI.L</th>\n",
       "      <th>CI.R</th>\n",
       "      <th>AveExpr</th>\n",
       "      <th>t</th>\n",
       "      <th>P.Value</th>\n",
       "      <th>adj.P.Val</th>\n",
       "      <th>B</th>\n",
       "    </tr>\n",
       "  </thead>\n",
       "  <tbody>\n",
       "    <tr>\n",
       "      <th>FOXA1</th>\n",
       "      <td>6.735125e+00</td>\n",
       "      <td>6.341204</td>\n",
       "      <td>7.129046</td>\n",
       "      <td>7.365069</td>\n",
       "      <td>3.378397e+01</td>\n",
       "      <td>6.465694e-72</td>\n",
       "      <td>1.088370e-67</td>\n",
       "      <td>152.726055</td>\n",
       "    </tr>\n",
       "    <tr>\n",
       "      <th>ESR1</th>\n",
       "      <td>7.171973e+00</td>\n",
       "      <td>6.604122</td>\n",
       "      <td>7.739825</td>\n",
       "      <td>7.821991</td>\n",
       "      <td>2.495618e+01</td>\n",
       "      <td>3.323979e-55</td>\n",
       "      <td>2.797627e-51</td>\n",
       "      <td>115.037317</td>\n",
       "    </tr>\n",
       "    <tr>\n",
       "      <th>SPDEF</th>\n",
       "      <td>5.726666e+00</td>\n",
       "      <td>5.216877</td>\n",
       "      <td>6.236455</td>\n",
       "      <td>6.439497</td>\n",
       "      <td>2.219654e+01</td>\n",
       "      <td>3.367632e-49</td>\n",
       "      <td>1.889578e-45</td>\n",
       "      <td>101.400816</td>\n",
       "    </tr>\n",
       "    <tr>\n",
       "      <th>MLPH</th>\n",
       "      <td>5.337504e+00</td>\n",
       "      <td>4.831663</td>\n",
       "      <td>5.843345</td>\n",
       "      <td>7.339588</td>\n",
       "      <td>2.084962e+01</td>\n",
       "      <td>4.057534e-46</td>\n",
       "      <td>1.707512e-42</td>\n",
       "      <td>94.424009</td>\n",
       "    </tr>\n",
       "    <tr>\n",
       "      <th>CT62</th>\n",
       "      <td>6.413095e+00</td>\n",
       "      <td>5.780444</td>\n",
       "      <td>7.045746</td>\n",
       "      <td>0.182838</td>\n",
       "      <td>2.002984e+01</td>\n",
       "      <td>3.404933e-44</td>\n",
       "      <td>1.146305e-40</td>\n",
       "      <td>88.374073</td>\n",
       "    </tr>\n",
       "    <tr>\n",
       "      <th>...</th>\n",
       "      <td>...</td>\n",
       "      <td>...</td>\n",
       "      <td>...</td>\n",
       "      <td>...</td>\n",
       "      <td>...</td>\n",
       "      <td>...</td>\n",
       "      <td>...</td>\n",
       "      <td>...</td>\n",
       "    </tr>\n",
       "    <tr>\n",
       "      <th>VDAC2</th>\n",
       "      <td>4.676387e-05</td>\n",
       "      <td>-0.229886</td>\n",
       "      <td>0.229979</td>\n",
       "      <td>6.286632</td>\n",
       "      <td>4.018688e-04</td>\n",
       "      <td>9.996799e-01</td>\n",
       "      <td>9.998796e-01</td>\n",
       "      <td>-7.506913</td>\n",
       "    </tr>\n",
       "    <tr>\n",
       "      <th>LOC100134868</th>\n",
       "      <td>1.274070e-04</td>\n",
       "      <td>-0.822525</td>\n",
       "      <td>0.822780</td>\n",
       "      <td>-3.382493</td>\n",
       "      <td>3.060207e-04</td>\n",
       "      <td>9.997562e-01</td>\n",
       "      <td>9.998796e-01</td>\n",
       "      <td>-6.317955</td>\n",
       "    </tr>\n",
       "    <tr>\n",
       "      <th>SEC1</th>\n",
       "      <td>-8.350380e-05</td>\n",
       "      <td>-0.549482</td>\n",
       "      <td>0.549315</td>\n",
       "      <td>-2.422942</td>\n",
       "      <td>-3.003257e-04</td>\n",
       "      <td>9.997608e-01</td>\n",
       "      <td>9.998796e-01</td>\n",
       "      <td>-6.401640</td>\n",
       "    </tr>\n",
       "    <tr>\n",
       "      <th>ITGAV</th>\n",
       "      <td>4.421225e-05</td>\n",
       "      <td>-0.395222</td>\n",
       "      <td>0.395311</td>\n",
       "      <td>7.446485</td>\n",
       "      <td>2.210174e-04</td>\n",
       "      <td>9.998239e-01</td>\n",
       "      <td>9.998833e-01</td>\n",
       "      <td>-7.521196</td>\n",
       "    </tr>\n",
       "    <tr>\n",
       "      <th>ZBTB22</th>\n",
       "      <td>1.033276e-07</td>\n",
       "      <td>-0.257168</td>\n",
       "      <td>0.257168</td>\n",
       "      <td>4.709545</td>\n",
       "      <td>7.939140e-07</td>\n",
       "      <td>9.999994e-01</td>\n",
       "      <td>9.999994e-01</td>\n",
       "      <td>-7.373581</td>\n",
       "    </tr>\n",
       "  </tbody>\n",
       "</table>\n",
       "<p>16833 rows × 8 columns</p>\n",
       "</div>"
      ],
      "text/plain": [
       "                     logFC      CI.L      CI.R   AveExpr             t  \\\n",
       "FOXA1         6.735125e+00  6.341204  7.129046  7.365069  3.378397e+01   \n",
       "ESR1          7.171973e+00  6.604122  7.739825  7.821991  2.495618e+01   \n",
       "SPDEF         5.726666e+00  5.216877  6.236455  6.439497  2.219654e+01   \n",
       "MLPH          5.337504e+00  4.831663  5.843345  7.339588  2.084962e+01   \n",
       "CT62          6.413095e+00  5.780444  7.045746  0.182838  2.002984e+01   \n",
       "...                    ...       ...       ...       ...           ...   \n",
       "VDAC2         4.676387e-05 -0.229886  0.229979  6.286632  4.018688e-04   \n",
       "LOC100134868  1.274070e-04 -0.822525  0.822780 -3.382493  3.060207e-04   \n",
       "SEC1         -8.350380e-05 -0.549482  0.549315 -2.422942 -3.003257e-04   \n",
       "ITGAV         4.421225e-05 -0.395222  0.395311  7.446485  2.210174e-04   \n",
       "ZBTB22        1.033276e-07 -0.257168  0.257168  4.709545  7.939140e-07   \n",
       "\n",
       "                   P.Value     adj.P.Val           B  \n",
       "FOXA1         6.465694e-72  1.088370e-67  152.726055  \n",
       "ESR1          3.323979e-55  2.797627e-51  115.037317  \n",
       "SPDEF         3.367632e-49  1.889578e-45  101.400816  \n",
       "MLPH          4.057534e-46  1.707512e-42   94.424009  \n",
       "CT62          3.404933e-44  1.146305e-40   88.374073  \n",
       "...                    ...           ...         ...  \n",
       "VDAC2         9.996799e-01  9.998796e-01   -7.506913  \n",
       "LOC100134868  9.997562e-01  9.998796e-01   -6.317955  \n",
       "SEC1          9.997608e-01  9.998796e-01   -6.401640  \n",
       "ITGAV         9.998239e-01  9.998833e-01   -7.521196  \n",
       "ZBTB22        9.999994e-01  9.999994e-01   -7.373581  \n",
       "\n",
       "[16833 rows x 8 columns]"
      ]
     },
     "execution_count": 38,
     "metadata": {},
     "output_type": "execute_result"
    }
   ],
   "source": [
    "# original Limma\n",
    "limma_table = pd.read_csv(path_to_R_limma_files+\"/All.Rlimma_table.tsv\",\n",
    "                          index_col=0,sep = \"\\t\")\n",
    "limma_table = limma_table.applymap(lambda x: float(x.replace(\",\",\".\")))\n",
    "limma_table "
   ]
  },
  {
   "cell_type": "code",
   "execution_count": 68,
   "metadata": {},
   "outputs": [
    {
     "data": {
      "text/html": [
       "<div>\n",
       "<style scoped>\n",
       "    .dataframe tbody tr th:only-of-type {\n",
       "        vertical-align: middle;\n",
       "    }\n",
       "\n",
       "    .dataframe tbody tr th {\n",
       "        vertical-align: top;\n",
       "    }\n",
       "\n",
       "    .dataframe thead th {\n",
       "        text-align: right;\n",
       "    }\n",
       "</style>\n",
       "<table border=\"1\" class=\"dataframe\">\n",
       "  <thead>\n",
       "    <tr style=\"text-align: right;\">\n",
       "      <th></th>\n",
       "      <th>t</th>\n",
       "      <th>AveExpr</th>\n",
       "      <th>lods</th>\n",
       "      <th>logFC</th>\n",
       "      <th>CI.L</th>\n",
       "      <th>CI.R</th>\n",
       "      <th>adj.P.Val</th>\n",
       "      <th>P.Value</th>\n",
       "      <th>gene_names</th>\n",
       "    </tr>\n",
       "  </thead>\n",
       "  <tbody>\n",
       "    <tr>\n",
       "      <th>FOXA1</th>\n",
       "      <td>21.080333</td>\n",
       "      <td>7.368559</td>\n",
       "      <td>50.818935</td>\n",
       "      <td>6.885834</td>\n",
       "      <td>6.230502</td>\n",
       "      <td>7.541166</td>\n",
       "      <td>4.762414e-23</td>\n",
       "      <td>2.853112e-27</td>\n",
       "      <td>FOXA1</td>\n",
       "    </tr>\n",
       "    <tr>\n",
       "      <th>ESR1</th>\n",
       "      <td>15.991177</td>\n",
       "      <td>7.729408</td>\n",
       "      <td>39.060687</td>\n",
       "      <td>7.172760</td>\n",
       "      <td>6.272873</td>\n",
       "      <td>8.072647</td>\n",
       "      <td>6.793384e-18</td>\n",
       "      <td>8.139689e-22</td>\n",
       "      <td>ESR1</td>\n",
       "    </tr>\n",
       "    <tr>\n",
       "      <th>XBP1</th>\n",
       "      <td>15.177061</td>\n",
       "      <td>10.653686</td>\n",
       "      <td>37.138812</td>\n",
       "      <td>3.506238</td>\n",
       "      <td>3.042753</td>\n",
       "      <td>3.969724</td>\n",
       "      <td>4.350452e-17</td>\n",
       "      <td>7.818930e-21</td>\n",
       "      <td>XBP1</td>\n",
       "    </tr>\n",
       "    <tr>\n",
       "      <th>SPDEF</th>\n",
       "      <td>14.111648</td>\n",
       "      <td>6.416305</td>\n",
       "      <td>33.967550</td>\n",
       "      <td>5.747163</td>\n",
       "      <td>4.930096</td>\n",
       "      <td>6.564231</td>\n",
       "      <td>6.278225e-16</td>\n",
       "      <td>1.701209e-19</td>\n",
       "      <td>SPDEF</td>\n",
       "    </tr>\n",
       "    <tr>\n",
       "      <th>TBC1D9</th>\n",
       "      <td>14.077757</td>\n",
       "      <td>8.209143</td>\n",
       "      <td>34.025876</td>\n",
       "      <td>4.307376</td>\n",
       "      <td>3.693527</td>\n",
       "      <td>4.921224</td>\n",
       "      <td>6.278225e-16</td>\n",
       "      <td>1.880609e-19</td>\n",
       "      <td>TBC1D9</td>\n",
       "    </tr>\n",
       "    <tr>\n",
       "      <th>...</th>\n",
       "      <td>...</td>\n",
       "      <td>...</td>\n",
       "      <td>...</td>\n",
       "      <td>...</td>\n",
       "      <td>...</td>\n",
       "      <td>...</td>\n",
       "      <td>...</td>\n",
       "      <td>...</td>\n",
       "      <td>...</td>\n",
       "    </tr>\n",
       "    <tr>\n",
       "      <th>RPS13</th>\n",
       "      <td>0.000735</td>\n",
       "      <td>8.555202</td>\n",
       "      <td>-7.131229</td>\n",
       "      <td>0.000155</td>\n",
       "      <td>-0.423566</td>\n",
       "      <td>0.423876</td>\n",
       "      <td>9.996561e-01</td>\n",
       "      <td>9.994166e-01</td>\n",
       "      <td>RPS13</td>\n",
       "    </tr>\n",
       "    <tr>\n",
       "      <th>CD70</th>\n",
       "      <td>0.000234</td>\n",
       "      <td>-2.001508</td>\n",
       "      <td>-6.034924</td>\n",
       "      <td>0.000166</td>\n",
       "      <td>-1.425517</td>\n",
       "      <td>1.425849</td>\n",
       "      <td>9.999552e-01</td>\n",
       "      <td>9.998144e-01</td>\n",
       "      <td>CD70</td>\n",
       "    </tr>\n",
       "    <tr>\n",
       "      <th>TELO2</th>\n",
       "      <td>-0.000183</td>\n",
       "      <td>5.011264</td>\n",
       "      <td>-7.043635</td>\n",
       "      <td>-0.000043</td>\n",
       "      <td>-0.474112</td>\n",
       "      <td>0.474026</td>\n",
       "      <td>9.999552e-01</td>\n",
       "      <td>9.998545e-01</td>\n",
       "      <td>TELO2</td>\n",
       "    </tr>\n",
       "    <tr>\n",
       "      <th>AGAP6</th>\n",
       "      <td>0.000076</td>\n",
       "      <td>2.354996</td>\n",
       "      <td>-6.565350</td>\n",
       "      <td>0.000022</td>\n",
       "      <td>-0.575287</td>\n",
       "      <td>0.575330</td>\n",
       "      <td>9.999552e-01</td>\n",
       "      <td>9.999398e-01</td>\n",
       "      <td>AGAP6</td>\n",
       "    </tr>\n",
       "    <tr>\n",
       "      <th>LPPR1</th>\n",
       "      <td>0.000056</td>\n",
       "      <td>-3.120640</td>\n",
       "      <td>-5.937242</td>\n",
       "      <td>0.000049</td>\n",
       "      <td>-1.730788</td>\n",
       "      <td>1.730885</td>\n",
       "      <td>9.999552e-01</td>\n",
       "      <td>9.999552e-01</td>\n",
       "      <td>LPPR1</td>\n",
       "    </tr>\n",
       "  </tbody>\n",
       "</table>\n",
       "<p>16692 rows × 9 columns</p>\n",
       "</div>"
      ],
      "text/plain": [
       "                t    AveExpr       lods     logFC      CI.L      CI.R  \\\n",
       "FOXA1   21.080333   7.368559  50.818935  6.885834  6.230502  7.541166   \n",
       "ESR1    15.991177   7.729408  39.060687  7.172760  6.272873  8.072647   \n",
       "XBP1    15.177061  10.653686  37.138812  3.506238  3.042753  3.969724   \n",
       "SPDEF   14.111648   6.416305  33.967550  5.747163  4.930096  6.564231   \n",
       "TBC1D9  14.077757   8.209143  34.025876  4.307376  3.693527  4.921224   \n",
       "...           ...        ...        ...       ...       ...       ...   \n",
       "RPS13    0.000735   8.555202  -7.131229  0.000155 -0.423566  0.423876   \n",
       "CD70     0.000234  -2.001508  -6.034924  0.000166 -1.425517  1.425849   \n",
       "TELO2   -0.000183   5.011264  -7.043635 -0.000043 -0.474112  0.474026   \n",
       "AGAP6    0.000076   2.354996  -6.565350  0.000022 -0.575287  0.575330   \n",
       "LPPR1    0.000056  -3.120640  -5.937242  0.000049 -1.730788  1.730885   \n",
       "\n",
       "           adj.P.Val       P.Value gene_names  \n",
       "FOXA1   4.762414e-23  2.853112e-27      FOXA1  \n",
       "ESR1    6.793384e-18  8.139689e-22       ESR1  \n",
       "XBP1    4.350452e-17  7.818930e-21       XBP1  \n",
       "SPDEF   6.278225e-16  1.701209e-19      SPDEF  \n",
       "TBC1D9  6.278225e-16  1.880609e-19     TBC1D9  \n",
       "...              ...           ...        ...  \n",
       "RPS13   9.996561e-01  9.994166e-01      RPS13  \n",
       "CD70    9.999552e-01  9.998144e-01       CD70  \n",
       "TELO2   9.999552e-01  9.998545e-01      TELO2  \n",
       "AGAP6   9.999552e-01  9.999398e-01      AGAP6  \n",
       "LPPR1   9.999552e-01  9.999552e-01      LPPR1  \n",
       "\n",
       "[16692 rows x 9 columns]"
      ]
     },
     "execution_count": 68,
     "metadata": {},
     "output_type": "execute_result"
    }
   ],
   "source": [
    "server_table  = pd.read_csv(\"/home/olya/Downloads/9ac7bd75-0135-4e77-931e-9e16be45e484/flimma-result.csv\",\n",
    "                         index_col=0,sep = \"\\t\")\n",
    "#limma_table = limma_table.applymap(lambda x: float(x.replace(\",\",\".\")))\n",
    "server_table "
   ]
  },
  {
   "cell_type": "code",
   "execution_count": 69,
   "metadata": {},
   "outputs": [
    {
     "data": {
      "text/html": [
       "<div>\n",
       "<style scoped>\n",
       "    .dataframe tbody tr th:only-of-type {\n",
       "        vertical-align: middle;\n",
       "    }\n",
       "\n",
       "    .dataframe tbody tr th {\n",
       "        vertical-align: top;\n",
       "    }\n",
       "\n",
       "    .dataframe thead th {\n",
       "        text-align: right;\n",
       "    }\n",
       "</style>\n",
       "<table border=\"1\" class=\"dataframe\">\n",
       "  <thead>\n",
       "    <tr style=\"text-align: right;\">\n",
       "      <th></th>\n",
       "      <th>t</th>\n",
       "      <th>AveExpr</th>\n",
       "      <th>lods</th>\n",
       "      <th>logFC</th>\n",
       "      <th>CI.L</th>\n",
       "      <th>CI.R</th>\n",
       "      <th>adj.P.Val</th>\n",
       "      <th>P.Value</th>\n",
       "      <th>gene_names</th>\n",
       "    </tr>\n",
       "    <tr>\n",
       "      <th>sample_name</th>\n",
       "      <th></th>\n",
       "      <th></th>\n",
       "      <th></th>\n",
       "      <th></th>\n",
       "      <th></th>\n",
       "      <th></th>\n",
       "      <th></th>\n",
       "      <th></th>\n",
       "      <th></th>\n",
       "    </tr>\n",
       "  </thead>\n",
       "  <tbody>\n",
       "    <tr>\n",
       "      <th>FOXA1</th>\n",
       "      <td>21.080333</td>\n",
       "      <td>7.368559</td>\n",
       "      <td>50.818934</td>\n",
       "      <td>6.885834</td>\n",
       "      <td>6.230502</td>\n",
       "      <td>7.541166</td>\n",
       "      <td>4.762416e-23</td>\n",
       "      <td>2.853113e-27</td>\n",
       "      <td>FOXA1</td>\n",
       "    </tr>\n",
       "    <tr>\n",
       "      <th>ESR1</th>\n",
       "      <td>15.991177</td>\n",
       "      <td>7.729408</td>\n",
       "      <td>39.060687</td>\n",
       "      <td>7.172760</td>\n",
       "      <td>6.272873</td>\n",
       "      <td>8.072647</td>\n",
       "      <td>6.793386e-18</td>\n",
       "      <td>8.139691e-22</td>\n",
       "      <td>ESR1</td>\n",
       "    </tr>\n",
       "    <tr>\n",
       "      <th>XBP1</th>\n",
       "      <td>15.177061</td>\n",
       "      <td>10.653686</td>\n",
       "      <td>37.138812</td>\n",
       "      <td>3.506238</td>\n",
       "      <td>3.042753</td>\n",
       "      <td>3.969724</td>\n",
       "      <td>4.350452e-17</td>\n",
       "      <td>7.818929e-21</td>\n",
       "      <td>XBP1</td>\n",
       "    </tr>\n",
       "    <tr>\n",
       "      <th>SPDEF</th>\n",
       "      <td>14.111648</td>\n",
       "      <td>6.416305</td>\n",
       "      <td>33.967550</td>\n",
       "      <td>5.747163</td>\n",
       "      <td>4.930096</td>\n",
       "      <td>6.564231</td>\n",
       "      <td>6.278227e-16</td>\n",
       "      <td>1.701208e-19</td>\n",
       "      <td>SPDEF</td>\n",
       "    </tr>\n",
       "    <tr>\n",
       "      <th>TBC1D9</th>\n",
       "      <td>14.077757</td>\n",
       "      <td>8.209143</td>\n",
       "      <td>34.025876</td>\n",
       "      <td>4.307376</td>\n",
       "      <td>3.693527</td>\n",
       "      <td>4.921224</td>\n",
       "      <td>6.278227e-16</td>\n",
       "      <td>1.880610e-19</td>\n",
       "      <td>TBC1D9</td>\n",
       "    </tr>\n",
       "    <tr>\n",
       "      <th>...</th>\n",
       "      <td>...</td>\n",
       "      <td>...</td>\n",
       "      <td>...</td>\n",
       "      <td>...</td>\n",
       "      <td>...</td>\n",
       "      <td>...</td>\n",
       "      <td>...</td>\n",
       "      <td>...</td>\n",
       "      <td>...</td>\n",
       "    </tr>\n",
       "    <tr>\n",
       "      <th>RPS13</th>\n",
       "      <td>0.000735</td>\n",
       "      <td>8.555202</td>\n",
       "      <td>-7.131229</td>\n",
       "      <td>0.000155</td>\n",
       "      <td>-0.423566</td>\n",
       "      <td>0.423876</td>\n",
       "      <td>9.996562e-01</td>\n",
       "      <td>9.994166e-01</td>\n",
       "      <td>RPS13</td>\n",
       "    </tr>\n",
       "    <tr>\n",
       "      <th>CD70</th>\n",
       "      <td>0.000234</td>\n",
       "      <td>-2.001508</td>\n",
       "      <td>-6.034924</td>\n",
       "      <td>0.000166</td>\n",
       "      <td>-1.425517</td>\n",
       "      <td>1.425849</td>\n",
       "      <td>9.999552e-01</td>\n",
       "      <td>9.998143e-01</td>\n",
       "      <td>CD70</td>\n",
       "    </tr>\n",
       "    <tr>\n",
       "      <th>TELO2</th>\n",
       "      <td>-0.000183</td>\n",
       "      <td>5.011264</td>\n",
       "      <td>-7.043635</td>\n",
       "      <td>-0.000043</td>\n",
       "      <td>-0.474112</td>\n",
       "      <td>0.474026</td>\n",
       "      <td>9.999552e-01</td>\n",
       "      <td>9.998545e-01</td>\n",
       "      <td>TELO2</td>\n",
       "    </tr>\n",
       "    <tr>\n",
       "      <th>AGAP6</th>\n",
       "      <td>0.000076</td>\n",
       "      <td>2.354996</td>\n",
       "      <td>-6.565350</td>\n",
       "      <td>0.000022</td>\n",
       "      <td>-0.575287</td>\n",
       "      <td>0.575330</td>\n",
       "      <td>9.999552e-01</td>\n",
       "      <td>9.999398e-01</td>\n",
       "      <td>AGAP6</td>\n",
       "    </tr>\n",
       "    <tr>\n",
       "      <th>LPPR1</th>\n",
       "      <td>0.000056</td>\n",
       "      <td>-3.120640</td>\n",
       "      <td>-5.937242</td>\n",
       "      <td>0.000049</td>\n",
       "      <td>-1.730788</td>\n",
       "      <td>1.730885</td>\n",
       "      <td>9.999552e-01</td>\n",
       "      <td>9.999552e-01</td>\n",
       "      <td>LPPR1</td>\n",
       "    </tr>\n",
       "  </tbody>\n",
       "</table>\n",
       "<p>16692 rows × 9 columns</p>\n",
       "</div>"
      ],
      "text/plain": [
       "                     t    AveExpr       lods     logFC      CI.L      CI.R  \\\n",
       "sample_name                                                                  \n",
       "FOXA1        21.080333   7.368559  50.818934  6.885834  6.230502  7.541166   \n",
       "ESR1         15.991177   7.729408  39.060687  7.172760  6.272873  8.072647   \n",
       "XBP1         15.177061  10.653686  37.138812  3.506238  3.042753  3.969724   \n",
       "SPDEF        14.111648   6.416305  33.967550  5.747163  4.930096  6.564231   \n",
       "TBC1D9       14.077757   8.209143  34.025876  4.307376  3.693527  4.921224   \n",
       "...                ...        ...        ...       ...       ...       ...   \n",
       "RPS13         0.000735   8.555202  -7.131229  0.000155 -0.423566  0.423876   \n",
       "CD70          0.000234  -2.001508  -6.034924  0.000166 -1.425517  1.425849   \n",
       "TELO2        -0.000183   5.011264  -7.043635 -0.000043 -0.474112  0.474026   \n",
       "AGAP6         0.000076   2.354996  -6.565350  0.000022 -0.575287  0.575330   \n",
       "LPPR1         0.000056  -3.120640  -5.937242  0.000049 -1.730788  1.730885   \n",
       "\n",
       "                adj.P.Val       P.Value gene_names  \n",
       "sample_name                                         \n",
       "FOXA1        4.762416e-23  2.853113e-27      FOXA1  \n",
       "ESR1         6.793386e-18  8.139691e-22       ESR1  \n",
       "XBP1         4.350452e-17  7.818929e-21       XBP1  \n",
       "SPDEF        6.278227e-16  1.701208e-19      SPDEF  \n",
       "TBC1D9       6.278227e-16  1.880610e-19     TBC1D9  \n",
       "...                   ...           ...        ...  \n",
       "RPS13        9.996562e-01  9.994166e-01      RPS13  \n",
       "CD70         9.999552e-01  9.998143e-01       CD70  \n",
       "TELO2        9.999552e-01  9.998545e-01      TELO2  \n",
       "AGAP6        9.999552e-01  9.999398e-01      AGAP6  \n",
       "LPPR1        9.999552e-01  9.999552e-01      LPPR1  \n",
       "\n",
       "[16692 rows x 9 columns]"
      ]
     },
     "execution_count": 69,
     "metadata": {},
     "output_type": "execute_result"
    }
   ],
   "source": [
    "server.table"
   ]
  },
  {
   "cell_type": "code",
   "execution_count": 41,
   "metadata": {},
   "outputs": [
    {
     "name": "stdout",
     "output_type": "stream",
     "text": [
      "t abs. diff.: max,mean,min: 0.016392084721719158 0.000146488792015966 2.627122963616557e-09\n",
      "p-value abs. diff.: max,mean,min: 0.0045969080078145375 2.968846838442726e-05 1.1052855664367525e-74\n"
     ]
    },
    {
     "data": {
      "image/png": "[encoded data removed]",
      "text/plain": [
       "<Figure size 936x360 with 2 Axes>"
      ]
     },
     "metadata": {
      "needs_background": "light"
     },
     "output_type": "display_data"
    }
   ],
   "source": [
    "server_table = server.table\n",
    "result = server.table.loc[limma_table.index.values,:] # result of fLimma arranges in the same order as limma_table\n",
    "\n",
    "fig, axes = plt.subplots(1, 2, figsize=(13,5), sharey=False)\n",
    "axes[0].set_title(\"t-statistics\")\n",
    "axes[0].scatter(x=result[\"t\"], y = limma_table[\"t\"],s=0.5)\n",
    "xmin = np.min(result[\"t\"])\n",
    "xmax = np.max(result[\"t\"])\n",
    "ymin = np.min( limma_table[\"t\"])\n",
    "ymax = np.max( limma_table[\"t\"])\n",
    "axes[0].plot([xmin-0.5,xmax+0.5],[xmin-0.5,xmax+0.5],color = \"red\", linestyle='dashed',linewidth=1)\n",
    "axes[0].set_xlabel('python fLimma')\n",
    "axes[0].set_ylabel('R limma')\n",
    "\n",
    "axes[1].set_title(\"$-log10(p.vals)$\")\n",
    "axes[1].scatter(x=-np.log10(result[\"P.Value\"]), y = -np.log10(limma_table[\"P.Value\"].values),s=2)\n",
    "axes[1].set_xlabel('python fLimma')\n",
    "\n",
    "xmax = max(-np.log10(result[\"P.Value\"]))\n",
    "ymax = max(-np.log10(limma_table[\"P.Value\"].values))\n",
    "axes[1].plot([-1,xmax+10],[-1,ymax+10],color = \"red\", linestyle='dashed',linewidth=1)\n",
    "tmp = axes[1].set_ylabel('R limma')\n",
    "diff =  result[\"t\"] - limma_table[\"t\"]\n",
    "print(\"t abs. diff.: max,mean,min:\", np.max(np.abs(diff)),np.mean(np.abs(diff)),np.min(np.abs(diff)))\n",
    "diff =  result[\"P.Value\"] - limma_table[\"P.Value\"]\n",
    "print(\"p-value abs. diff.: max,mean,min:\", np.max(np.abs(diff)),np.mean(np.abs(diff)),np.min(np.abs(diff)))"
   ]
  },
  {
   "cell_type": "code",
   "execution_count": 41,
   "metadata": {},
   "outputs": [
    {
     "name": "stdout",
     "output_type": "stream",
     "text": [
      "B  abs. diff.: max,mean,min: 0.09100086167586596 0.00038249164459567647 1.8663399853346974e-09\n"
     ]
    }
   ],
   "source": [
    "b = limma_table [\"B\"]\n",
    "lods = server.table[\"lods\"]\n",
    "diff = b - lods\n",
    "print(\"B  abs. diff.: max,mean,min:\", np.max(np.abs(diff)),np.mean(np.abs(diff)),np.min(np.abs(diff)))"
   ]
  },
  {
   "cell_type": "code",
   "execution_count": null,
   "metadata": {},
   "outputs": [],
   "source": []
  },
  {
   "cell_type": "code",
   "execution_count": null,
   "metadata": {},
   "outputs": [],
   "source": []
  },
  {
   "cell_type": "code",
   "execution_count": null,
   "metadata": {},
   "outputs": [],
   "source": []
  }
 ],
 "metadata": {
  "kernelspec": {
   "display_name": "Python 3",
   "language": "python",
   "name": "python3"
  },
  "language_info": {
   "codemirror_mode": {
    "name": "ipython",
    "version": 3
   },
   "file_extension": ".py",
   "mimetype": "text/x-python",
   "name": "python",
   "nbconvert_exporter": "python",
   "pygments_lexer": "ipython3",
   "version": "3.8.3"
  }
 },
 "nbformat": 4,
 "nbformat_minor": 2
}
